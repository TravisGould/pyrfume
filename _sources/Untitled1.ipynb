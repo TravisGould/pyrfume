{
 "cells": [
  {
   "cell_type": "code",
   "execution_count": 1,
   "id": "de8281b1-53ac-4fd4-914c-7f4f4a66dc57",
   "metadata": {},
   "outputs": [],
   "source": [
    "from ghp_import import ghp_import"
   ]
  },
  {
   "cell_type": "code",
   "execution_count": 2,
   "id": "faee07d5-f017-4a0e-bd89-2bcda1aeff8b",
   "metadata": {},
   "outputs": [],
   "source": [
    "ghp_import('_build/html', push=True, cname=None, use_shell=False, nojekyll=True, force=True)"
   ]
  }
 ],
 "metadata": {
  "kernelspec": {
   "display_name": "Python 3 (ipykernel)",
   "language": "python",
   "name": "python3"
  },
  "language_info": {
   "codemirror_mode": {
    "name": "ipython",
    "version": 3
   },
   "file_extension": ".py",
   "mimetype": "text/x-python",
   "name": "python",
   "nbconvert_exporter": "python",
   "pygments_lexer": "ipython3",
   "version": "3.9.12"
  }
 },
 "nbformat": 4,
 "nbformat_minor": 5
}
